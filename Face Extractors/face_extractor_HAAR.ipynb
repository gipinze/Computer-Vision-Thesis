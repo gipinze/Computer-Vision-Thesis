{
 "cells": [
  {
   "cell_type": "code",
   "execution_count": 1,
   "metadata": {},
   "outputs": [],
   "source": [
    "# https://youtu.be/9T9L9HoUFZ0\n",
    "\"\"\"\n",
    "Author: Dr. Sreenivas Bhattiprolu \n",
    "Load images, extract faces and save them to a new directory.\n",
    "Dataset: https://www.kaggle.com/jessicali9530/celeba-dataset\n",
    "Haarcascade models...\n",
    "https://github.com/opencv/opencv/tree/master/data/haarcascades\n",
    "\"\"\"\n",
    "\n",
    "#######################################################################\n",
    "\n",
    "#Extract faces\n",
    "import cv2\n",
    "import glob\n",
    "import os"
   ]
  },
  {
   "cell_type": "code",
   "execution_count": 2,
   "metadata": {},
   "outputs": [],
   "source": [
    "face_cascade = cv2.CascadeClassifier(cv2.data.haarcascades+'haarcascade_frontalface_default.xml')"
   ]
  },
  {
   "cell_type": "code",
   "execution_count": 7,
   "metadata": {},
   "outputs": [
    {
     "name": "stdout",
     "output_type": "stream",
     "text": [
      "dataset/Example\\1.2017-09-09-06-55-51.jpg\n",
      "dataset/Example\\1.360_f_273982841_wyvgkrluwdosyjgy8sgdyqxqygs5ssle.jpg\n",
      "dataset/Example\\1.682px-asian_man_face.jpg\n",
      "dataset/Example\\1.82b29ad1d5ab3e8db578d677a90318de.jpg\n",
      "dataset/Example\\1._91065862_hi035157726.jpg\n"
     ]
    }
   ],
   "source": [
    "#select the path\n",
    "path = \"dataset/Example/*.*\"\n",
    "img_number = 1  #Start an iterator for image number.\n",
    "\n",
    "img_list = glob.glob(path)\n",
    "\n",
    "#Extract faces from a subset of images to be used for training.\n",
    "#Resize to 128x128\n",
    "for file in img_list[0:25000]:\n",
    "    print(file)     #just stop here to see all file names printed\n",
    "    img= cv2.imread(file, 1)  #now, we can read each file since we have the full path\n",
    "    gray = cv2.cvtColor(img, cv2.COLOR_BGR2GRAY)\n",
    "    faces = face_cascade.detectMultiScale(gray, 1.1, 2)\n",
    "    try:\n",
    "        for (x,y,w,h) in faces:\n",
    "            roi_color = img[y:y+h, x:x+w] \n",
    "        resized = cv2.resize(roi_color, (128,128))\n",
    "        cv2.imwrite(\"extracted_faces/\"+str(img_number)+\".jpg\", resized)\n",
    "    except:\n",
    "        print(\"No faces detected\")\n",
    "    \n",
    "    \n",
    "    img_number +=1    "
   ]
  },
  {
   "cell_type": "code",
   "execution_count": null,
   "metadata": {},
   "outputs": [],
   "source": []
  }
 ],
 "metadata": {
  "kernelspec": {
   "display_name": "Face-Extractor",
   "language": "python",
   "name": "python3"
  },
  "language_info": {
   "codemirror_mode": {
    "name": "ipython",
    "version": 3
   },
   "file_extension": ".py",
   "mimetype": "text/x-python",
   "name": "python",
   "nbconvert_exporter": "python",
   "pygments_lexer": "ipython3",
   "version": "3.9.15"
  },
  "orig_nbformat": 4,
  "vscode": {
   "interpreter": {
    "hash": "a097cdc2db81efc79f03fe6f41c746e875b96d5742563d90b8a506249743eff3"
   }
  }
 },
 "nbformat": 4,
 "nbformat_minor": 2
}
