{
 "cells": [
  {
   "cell_type": "code",
   "execution_count": 4,
   "metadata": {},
   "outputs": [
    {
     "name": "stdout",
     "output_type": "stream",
     "text": [
      "Error processing image: 1.2017-09-09-06-55-51.jpg. Error: OpenCV(4.7.0) D:\\a\\opencv-python\\opencv-python\\opencv\\modules\\imgcodecs\\src\\loadsave.cpp:783: error: (-215:Assertion failed) !_img.empty() in function 'cv::imwrite'\n",
      "\n"
     ]
    }
   ],
   "source": [
    "import cv2\n",
    "import os\n",
    "import numpy as np\n",
    "\n",
    "\n",
    "def extract_faces(input_folder, output_folder):\n",
    "    # Load the Caffe model for face detection using SSD\n",
    "    modelFile = \"../HAAR_Models/res10/res10_300x300_ssd_iter_140000.caffemodel\"\n",
    "    configFile = \"../HAAR_Models/res10/deploy.prototxt\"\n",
    "    net = cv2.dnn.readNetFromCaffe(configFile, modelFile)\n",
    "\n",
    "        # Set the confidence threshold for face detection\n",
    "    confidence_threshold = 0.5\n",
    "\n",
    "    # Loop through all images in the input folder\n",
    "    for filename in os.listdir(input_folder):\n",
    "        try:\n",
    "            # Load the image and get its dimensions\n",
    "            image = cv2.imread(os.path.join(input_folder, filename))\n",
    "            (h, w) = image.shape[:2]\n",
    "\n",
    "            # Prepare the blob to be fed into the model\n",
    "            blob = cv2.dnn.blobFromImage(cv2.resize(image, (300, 300)), 1.0, (300, 300), (104.0, 177.0, 123.0))\n",
    "\n",
    "            # Feed the blob into the model to get the detections\n",
    "            net.setInput(blob)\n",
    "            detections = net.forward()\n",
    "\n",
    "            faces_detected = False\n",
    "            # Loop through the detections and extract faces\n",
    "            for i in range(detections.shape[2]):\n",
    "                confidence = detections[0, 0, i, 2]\n",
    "                if confidence > confidence_threshold:\n",
    "                    faces_detected = True\n",
    "                    box = detections[0, 0, i, 3:7] * np.array([w, h, w, h])\n",
    "                    (startX, startY, endX, endY) = box.astype(\"int\")\n",
    "\n",
    "                    # Extract the face and save it in the output folder\n",
    "                    face = image[startY:endY, startX:endX]\n",
    "                    output_path = os.path.join(output_folder, f\"face_{i}_{filename}\")\n",
    "                    cv2.imwrite(output_path, face)\n",
    "            if not faces_detected:\n",
    "                print(f\"No faces detected in image: {filename}\")\n",
    "        except Exception as e:\n",
    "            print(f\"Error processing image: {filename}. Error: {e}\")\n",
    "\n",
    "if __name__ == '__main__':\n",
    "    input_folder = \"../dataset/Example/\"\n",
    "    output_folder = \"../cropped_faces2/\"\n",
    "\n",
    "    # Create the output folder if it doesn't exist\n",
    "    if not os.path.exists(output_folder):\n",
    "        os.makedirs(output_folder)\n",
    "\n",
    "    extract_faces(input_folder, output_folder)"
   ]
  },
  {
   "cell_type": "code",
   "execution_count": null,
   "metadata": {},
   "outputs": [],
   "source": []
  }
 ],
 "metadata": {
  "kernelspec": {
   "display_name": "Tensorflow2.9",
   "language": "python",
   "name": "python3"
  },
  "language_info": {
   "codemirror_mode": {
    "name": "ipython",
    "version": 3
   },
   "file_extension": ".py",
   "mimetype": "text/x-python",
   "name": "python",
   "nbconvert_exporter": "python",
   "pygments_lexer": "ipython3",
   "version": "3.9.15"
  },
  "orig_nbformat": 4,
  "vscode": {
   "interpreter": {
    "hash": "504c4dd4a92284868c5e1905782424f657dbb27dbeeb9259787a99fe0528805e"
   }
  }
 },
 "nbformat": 4,
 "nbformat_minor": 2
}
