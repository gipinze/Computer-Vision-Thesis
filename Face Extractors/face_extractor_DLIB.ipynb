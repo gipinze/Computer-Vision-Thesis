{
 "cells": [
  {
   "cell_type": "code",
   "execution_count": 1,
   "metadata": {},
   "outputs": [],
   "source": [
    "import dlib\n",
    "import cv2\n",
    "import os\n",
    "\n",
    "# Load dlib's face detector\n",
    "face_detector = dlib.get_frontal_face_detector()\n",
    "\n",
    "# Path to the directory with images\n",
    "img_dir = 'dataset/Example'\n",
    "\n",
    "# Loop through all images in the directory\n",
    "for filename in os.listdir(img_dir):\n",
    "    # Check if the file is an image\n",
    "    if filename.endswith('.jpg') or filename.endswith('.jpeg') or filename.endswith('.png'):\n",
    "        # Load the image\n",
    "        img = cv2.imread(os.path.join(img_dir, filename))\n",
    "\n",
    "        # Convert the image to grayscale\n",
    "        gray = cv2.cvtColor(img, cv2.COLOR_BGR2GRAY)\n",
    "\n",
    "        # Detect faces in the image\n",
    "        faces = face_detector(gray, 1)\n",
    "\n",
    "        # Loop through all detected faces\n",
    "        for i, face_rect in enumerate(faces):\n",
    "            # Crop the face from the image\n",
    "            face = img[face_rect.top():face_rect.bottom(), face_rect.left():face_rect.right()]\n",
    "\n",
    "            # Give the face a standard new name\n",
    "            new_filename = 'face_' + str(i) + '.jpg'\n",
    "\n",
    "            # Save the face to disk\n",
    "            cv2.imwrite(os.path.join(img_dir, new_filename), face)"
   ]
  },
  {
   "cell_type": "code",
   "execution_count": null,
   "metadata": {},
   "outputs": [],
   "source": []
  }
 ],
 "metadata": {
  "kernelspec": {
   "display_name": "Tensorflow2.9",
   "language": "python",
   "name": "python3"
  },
  "language_info": {
   "codemirror_mode": {
    "name": "ipython",
    "version": 3
   },
   "file_extension": ".py",
   "mimetype": "text/x-python",
   "name": "python",
   "nbconvert_exporter": "python",
   "pygments_lexer": "ipython3",
   "version": "3.9.15"
  },
  "orig_nbformat": 4,
  "vscode": {
   "interpreter": {
    "hash": "504c4dd4a92284868c5e1905782424f657dbb27dbeeb9259787a99fe0528805e"
   }
  }
 },
 "nbformat": 4,
 "nbformat_minor": 2
}
